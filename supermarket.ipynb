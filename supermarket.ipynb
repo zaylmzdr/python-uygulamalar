{
  "nbformat": 4,
  "nbformat_minor": 0,
  "metadata": {
    "colab": {
      "provenance": [],
      "authorship_tag": "ABX9TyPjgn+UIwU0WCKxo1oxuisa",
      "include_colab_link": true
    },
    "kernelspec": {
      "name": "python3",
      "display_name": "Python 3"
    },
    "language_info": {
      "name": "python"
    }
  },
  "cells": [
    {
      "cell_type": "markdown",
      "metadata": {
        "id": "view-in-github",
        "colab_type": "text"
      },
      "source": [
        "<a href=\"https://colab.research.google.com/github/zaylmzdr/python-uygulamalar/blob/main/supermarket.ipynb\" target=\"_parent\"><img src=\"https://colab.research.google.com/assets/colab-badge.svg\" alt=\"Open In Colab\"/></a>"
      ]
    },
    {
      "cell_type": "code",
      "execution_count": 8,
      "metadata": {
        "colab": {
          "base_uri": "https://localhost:8080/"
        },
        "id": "NLBXO-0KizI5",
        "outputId": "57e55387-2566-48f5-f336-a23abdcb8f86"
      },
      "outputs": [
        {
          "output_type": "stream",
          "name": "stdout",
          "text": [
            "Ürün ismi giriniz, çıkmak istiyorsanız 'çıkış' yazın: elma\n",
            "Kaç adet almak istiyorsunuz: 4\n",
            "Ürün ismi giriniz, çıkmak istiyorsanız 'çıkış' yazın: turşu\n",
            "Kaç adet almak istiyorsunuz: 4\n",
            "Ürün ismi giriniz, çıkmak istiyorsanız 'çıkış' yazın: portakal\n",
            "Kaç adet almak istiyorsunuz: 3\n",
            "Ürün ismi giriniz, çıkmak istiyorsanız 'çıkış' yazın: çıkış\n",
            "elma: Markette bulunuyor, meyve-sebze reyonunda bulabilirsiniz. Stok: 30\n",
            "turşu: Markette bulunmuyor.\n",
            "portakal: Markette bulunuyor, meyve-sebze reyonunda bulabilirsiniz. Stok: 15\n",
            "Güncel listem: [('elma', 4), ('portakal', 3)]\n",
            "Fatura: 190\n",
            "Güncellenmiş market: {'elma': (25, 26, 'meyve-sebze'), 'süt': (28, 25, 'günlük gıda'), 'portakal': (30, 12, 'meyve-sebze'), 'şeker': (46, 50, 'pastacılık'), 'çikolata': (25, 10, 'atıştırmalık'), 'su': (100, 15, 'içecekler'), 'tuz': (34, 25, 'baharat'), 'domates': (45, 18, 'meyve-sebze'), 'patates': (34, 12, 'meyve-sebze')}\n"
          ]
        }
      ],
      "source": [
        "def urun_girisi():\n",
        "    shopping_list = []\n",
        "    while True:\n",
        "        urun_ismi = input(\"Ürün ismi giriniz, çıkmak istiyorsanız 'çıkış' yazın: \").lower()\n",
        "        if urun_ismi == \"çıkış\":\n",
        "            break\n",
        "\n",
        "        adet = input(\"Kaç adet almak istiyorsunuz: \")\n",
        "        if not adet.isdigit():\n",
        "            print(\"Lütfen bir sayı giriniz.\")\n",
        "            continue\n",
        "\n",
        "        urun_bilgisi = (urun_ismi, int(adet))\n",
        "        shopping_list.append(urun_bilgisi)\n",
        "\n",
        "    return shopping_list\n",
        "\n",
        "def market_kontrol(shopping_list, market):\n",
        "    notin_market = []\n",
        "    for urun, adet in shopping_list:\n",
        "        if urun in market:\n",
        "            stok_adet = market[urun][1]\n",
        "            if adet <= stok_adet:\n",
        "                print(f\"{urun}: Markette bulunuyor, {market[urun][2]} reyonunda bulabilirsiniz. Stok: {stok_adet}\")\n",
        "            else:\n",
        "                print(f\"Yeterli stok yoktur, lütfen ürün adedini güncelleyin. Mevcut stok: {stok_adet}\")\n",
        "                yeni_adet = int(input(\"Yeni adet: \"))\n",
        "                if yeni_adet <= stok_adet:\n",
        "                    print(\"Faturalama işlemine geçebilirsiniz.\")\n",
        "                    market[urun] = (market[urun][0], stok_adet - yeni_adet, market[urun][2])\n",
        "                else:\n",
        "                    print(\"Üzgünüz, istediğiniz adet kadar ürün bulunmamaktadır.\")\n",
        "                    notin_market.append(urun)\n",
        "        else:\n",
        "            notin_market.append(urun)\n",
        "            print(f\"{urun}: Markette bulunmuyor.\")\n",
        "\n",
        "    return notin_market\n",
        "\n",
        "\n",
        "def fatura_hesapla(update_list, market):\n",
        "    fatura = 0\n",
        "    for urun, adet in update_list:\n",
        "        if urun in market:\n",
        "            fiyat = market[urun][0]\n",
        "            fatura += adet * fiyat\n",
        "    return fatura\n",
        "\n",
        "def stok_guncelle(update_list, market):\n",
        "    for urun, adet in update_list:\n",
        "        if urun in market:\n",
        "            market[urun] = (market[urun][0], market[urun][1] - adet, market[urun][2])\n",
        "        else:\n",
        "            print(f\"{urun}: Marketimizde bulunmayan bir ürün olduğu için stok güncellemesi yapılamıyor.\")\n",
        "\n",
        "def main():\n",
        "    shopping_list = urun_girisi()\n",
        "\n",
        "    market = {\n",
        "        \"elma\": (25, 30, 'meyve-sebze'),\n",
        "        \"süt\": (28, 25, 'günlük gıda'),\n",
        "        \"portakal\": (30, 15, 'meyve-sebze'),\n",
        "        \"şeker\": (46, 50, 'pastacılık'),\n",
        "        \"çikolata\": (25, 10, 'atıştırmalık'),\n",
        "        \"su\": (100, 15, 'içecekler'),\n",
        "        \"tuz\": (34, 25, 'baharat'),\n",
        "        \"domates\": (45, 18, 'meyve-sebze'),\n",
        "        \"patates\": (34, 12, 'meyve-sebze')\n",
        "    }\n",
        "\n",
        "    notin_market = market_kontrol(shopping_list, market)\n",
        "\n",
        "    update_list = [(urun, adet) for urun, adet in shopping_list if urun not in notin_market]\n",
        "    print(\"Güncel listem:\", update_list)\n",
        "\n",
        "    fatura = fatura_hesapla(update_list, market)\n",
        "    print(\"Fatura:\", fatura)\n",
        "\n",
        "    stok_guncelle(update_list, market)\n",
        "    print(\"Güncellenmiş market:\", market)\n",
        "\n",
        "if __name__ == \"__main__\":\n",
        "    main()\n"
      ]
    }
  ]
}