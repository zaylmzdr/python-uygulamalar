{
  "nbformat": 4,
  "nbformat_minor": 0,
  "metadata": {
    "colab": {
      "provenance": [],
      "authorship_tag": "ABX9TyNA4DuWk/i1TmwglP4qgLUq",
      "include_colab_link": true
    },
    "kernelspec": {
      "name": "python3",
      "display_name": "Python 3"
    },
    "language_info": {
      "name": "python"
    }
  },
  "cells": [
    {
      "cell_type": "markdown",
      "metadata": {
        "id": "view-in-github",
        "colab_type": "text"
      },
      "source": [
        "<a href=\"https://colab.research.google.com/github/zaylmzdr/python-uygulamalar/blob/main/fahrenheitcelcius.ipynb\" target=\"_parent\"><img src=\"https://colab.research.google.com/assets/colab-badge.svg\" alt=\"Open In Colab\"/></a>"
      ]
    },
    {
      "cell_type": "code",
      "execution_count": 5,
      "metadata": {
        "colab": {
          "base_uri": "https://localhost:8080/"
        },
        "id": "UMV_2pa-ZAf3",
        "outputId": "6271d860-0e31-4124-831e-d7604ec57fc3"
      },
      "outputs": [
        {
          "output_type": "stream",
          "name": "stdout",
          "text": [
            "100\n",
            "c2f: celcius-fahrenheit dönüşümü\n",
            "f2c: fahrenheit-celcius dönüşümü\n",
            "c2f\n",
            "87.55555555555556 °F\n"
          ]
        }
      ],
      "source": [
        "def fc():\n",
        "  temperature = int(input())\n",
        "  mode = input(\"c2f: celcius-fahrenheit dönüşümü\\nf2c: fahrenheit-celcius dönüşümü\\n\")\n",
        "\n",
        "  assert mode == \"f2c\" or mode == \"c2f\" , \"geçersiz\"\n",
        "\n",
        "  if mode == \"f2c\":\n",
        "    temperature = (temperature - 32) * 5/9\n",
        "    print(temperature ,\"°C\")\n",
        "  else:\n",
        "    temperature = (temperature * 5/9) + 32\n",
        "    print(temperature ,\"°F\")\n",
        "\n",
        "fc()"
      ]
    }
  ]
}